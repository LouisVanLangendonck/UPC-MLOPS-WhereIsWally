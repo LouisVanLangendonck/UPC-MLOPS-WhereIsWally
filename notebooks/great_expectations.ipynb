{
 "cells": [
  {
   "cell_type": "code",
   "execution_count": 1,
   "id": "cc50b7c6-2ec1-4df7-b114-ce310e8a75a0",
   "metadata": {},
   "outputs": [],
   "source": [
    "import os\n",
    "import great_expectations as gx\n",
    "context = gx.get_context()\n",
    "\n",
    "#filename,width,height,class,xmin,ymin,xmax,ymax"
   ]
  },
  {
   "cell_type": "code",
   "execution_count": 2,
   "id": "59cdea74-a864-4755-80b7-c9230577c112",
   "metadata": {},
   "outputs": [],
   "source": [
    "def validate_data(validator, images_list):\n",
    "    validator.expect_column_values_to_not_be_null(\"filename\")\n",
    "    validator.expect_column_values_to_not_be_null(\"width\")\n",
    "    validator.expect_column_values_to_not_be_null(\"height\")\n",
    "    validator.expect_column_values_to_not_be_null(\"class\")\n",
    "    validator.expect_column_values_to_not_be_null(\"xmin\")\n",
    "    validator.expect_column_values_to_not_be_null(\"ymin\")\n",
    "    validator.expect_column_values_to_not_be_null(\"xmax\")\n",
    "    validator.expect_column_values_to_not_be_null(\"ymax\")\n",
    "    \n",
    "    validator.expect_column_values_to_be_of_type(\"filename\", \"object\")\n",
    "    validator.expect_column_values_to_be_of_type(\"width\", \"int\")\n",
    "    validator.expect_column_values_to_be_of_type(\"height\", \"int\")\n",
    "    validator.expect_column_values_to_be_of_type(\"class\", \"object\")\n",
    "    validator.expect_column_values_to_be_of_type(\"xmin\", \"int\")\n",
    "    validator.expect_column_values_to_be_of_type(\"ymin\", \"int\")\n",
    "    validator.expect_column_values_to_be_of_type(\"xmax\", \"int\")\n",
    "    validator.expect_column_values_to_be_of_type(\"ymax\", \"int\")\n",
    "    \n",
    "    validator.expect_column_values_to_be_between(\"width\", min_value = 0, max_value = 1280)\n",
    "    validator.expect_column_values_to_be_between(\"height\", min_value = 0, max_value = 1280)\n",
    "    validator.expect_column_values_to_be_between(\"xmin\", min_value = 0, max_value = 1280)\n",
    "    validator.expect_column_values_to_be_between(\"ymin\", min_value = 0, max_value = 1280)\n",
    "    validator.expect_column_values_to_be_between(\"xmax\", min_value = 0, max_value = 1280)\n",
    "    validator.expect_column_values_to_be_between(\"ymax\", min_value = 0, max_value = 1280)\n",
    "    \n",
    "    validator.expect_column_values_to_be_unique(\"filename\")\n",
    "    \n",
    "    validator.expect_column_distinct_values_to_be_in_set(\"class\", {\"Odlaw\", \"Wizard\", \"Wilma\", \"Wally\"})\n",
    "\n",
    "     #cheking annotation filenames to exists in data dir\n",
    "    validator.expect_column_distinct_values_to_be_in_set(\"filename\", images_list)\n",
    "    #cheking filenames in dir to exist in annotation\n",
    "    validator.expect_column_distinct_values_to_contain_set(\"filename\", images_list)\n",
    "    \n",
    "    validator.save_expectation_suite()\n",
    "    \n",
    "    checkpoint = context.add_or_update_checkpoint(\n",
    "        name=\"train_checkpoint\",\n",
    "        validator=validator,\n",
    "    )\n",
    "    checkpoint_result = checkpoint.run()\n",
    "    context.view_validation_result(checkpoint_result)"
   ]
  },
  {
   "cell_type": "code",
   "execution_count": 3,
   "id": "b6f638ad-7087-471c-989f-cccd389c0526",
   "metadata": {},
   "outputs": [
    {
     "ename": "FileNotFoundError",
     "evalue": "[Errno 2] No such file or directory: '../../data/raw/train/_annotations.csv'",
     "output_type": "error",
     "traceback": [
      "\u001B[0;31m---------------------------------------------------------------------------\u001B[0m",
      "\u001B[0;31mFileNotFoundError\u001B[0m                         Traceback (most recent call last)",
      "\u001B[0;32m/tmp/ipykernel_6390/321748932.py\u001B[0m in \u001B[0;36m<module>\u001B[0;34m\u001B[0m\n\u001B[1;32m      1\u001B[0m \u001B[0;31m#TRAIN DATA\u001B[0m\u001B[0;34m\u001B[0m\u001B[0;34m\u001B[0m\u001B[0m\n\u001B[1;32m      2\u001B[0m \u001B[0mdata_path\u001B[0m \u001B[0;34m=\u001B[0m \u001B[0;34m\"../../data/raw/train/_annotations.csv\"\u001B[0m\u001B[0;34m\u001B[0m\u001B[0;34m\u001B[0m\u001B[0m\n\u001B[0;32m----> 3\u001B[0;31m \u001B[0mtrain_validator\u001B[0m \u001B[0;34m=\u001B[0m \u001B[0mcontext\u001B[0m\u001B[0;34m.\u001B[0m\u001B[0msources\u001B[0m\u001B[0;34m.\u001B[0m\u001B[0mpandas_default\u001B[0m\u001B[0;34m.\u001B[0m\u001B[0mread_csv\u001B[0m\u001B[0;34m(\u001B[0m\u001B[0mdata_path\u001B[0m\u001B[0;34m)\u001B[0m\u001B[0;34m\u001B[0m\u001B[0;34m\u001B[0m\u001B[0m\n\u001B[0m\u001B[1;32m      4\u001B[0m \u001B[0mimages_list\u001B[0m \u001B[0;34m=\u001B[0m \u001B[0mos\u001B[0m\u001B[0;34m.\u001B[0m\u001B[0mlistdir\u001B[0m\u001B[0;34m(\u001B[0m\u001B[0;34m\"../../data/raw/train/\"\u001B[0m\u001B[0;34m)\u001B[0m\u001B[0;34m\u001B[0m\u001B[0;34m\u001B[0m\u001B[0m\n\u001B[1;32m      5\u001B[0m \u001B[0mvalidate_data\u001B[0m\u001B[0;34m(\u001B[0m\u001B[0mtrain_validator\u001B[0m\u001B[0;34m,\u001B[0m \u001B[0mimages_list\u001B[0m\u001B[0;34m)\u001B[0m\u001B[0;34m\u001B[0m\u001B[0;34m\u001B[0m\u001B[0m\n",
      "\u001B[0;32m~/anaconda3/lib/python3.9/site-packages/great_expectations/datasource/fluent/pandas_datasource.py\u001B[0m in \u001B[0;36mread_csv\u001B[0;34m(self, filepath_or_buffer, asset_name, **kwargs)\u001B[0m\n\u001B[1;32m    798\u001B[0m             \u001B[0;34m**\u001B[0m\u001B[0mkwargs\u001B[0m\u001B[0;34m,\u001B[0m\u001B[0;34m\u001B[0m\u001B[0;34m\u001B[0m\u001B[0m\n\u001B[1;32m    799\u001B[0m         )\n\u001B[0;32m--> 800\u001B[0;31m         \u001B[0;32mreturn\u001B[0m \u001B[0mself\u001B[0m\u001B[0;34m.\u001B[0m\u001B[0m_get_validator\u001B[0m\u001B[0;34m(\u001B[0m\u001B[0masset\u001B[0m\u001B[0;34m=\u001B[0m\u001B[0masset\u001B[0m\u001B[0;34m)\u001B[0m\u001B[0;34m\u001B[0m\u001B[0;34m\u001B[0m\u001B[0m\n\u001B[0m\u001B[1;32m    801\u001B[0m \u001B[0;34m\u001B[0m\u001B[0m\n\u001B[1;32m    802\u001B[0m     \u001B[0;34m@\u001B[0m\u001B[0mpublic_api\u001B[0m\u001B[0;34m\u001B[0m\u001B[0;34m\u001B[0m\u001B[0m\n",
      "\u001B[0;32m~/anaconda3/lib/python3.9/site-packages/great_expectations/datasource/fluent/pandas_datasource.py\u001B[0m in \u001B[0;36m_get_validator\u001B[0;34m(self, asset, dataframe)\u001B[0m\n\u001B[1;32m    647\u001B[0m \u001B[0;34m\u001B[0m\u001B[0m\n\u001B[1;32m    648\u001B[0m         \u001B[0;31m# TODO: raise error if `_data_context` not set\u001B[0m\u001B[0;34m\u001B[0m\u001B[0;34m\u001B[0m\u001B[0m\n\u001B[0;32m--> 649\u001B[0;31m         \u001B[0;32mreturn\u001B[0m \u001B[0mself\u001B[0m\u001B[0;34m.\u001B[0m\u001B[0m_data_context\u001B[0m\u001B[0;34m.\u001B[0m\u001B[0mget_validator\u001B[0m\u001B[0;34m(\u001B[0m\u001B[0mbatch_request\u001B[0m\u001B[0;34m=\u001B[0m\u001B[0mbatch_request\u001B[0m\u001B[0;34m)\u001B[0m  \u001B[0;31m# type: ignore[union-attr] # self._data_context must be set\u001B[0m\u001B[0;34m\u001B[0m\u001B[0;34m\u001B[0m\u001B[0m\n\u001B[0m\u001B[1;32m    650\u001B[0m \u001B[0;34m\u001B[0m\u001B[0m\n\u001B[1;32m    651\u001B[0m     \u001B[0;34m@\u001B[0m\u001B[0mpublic_api\u001B[0m\u001B[0;34m\u001B[0m\u001B[0;34m\u001B[0m\u001B[0m\n",
      "\u001B[0;32m~/anaconda3/lib/python3.9/site-packages/great_expectations/data_context/data_context/abstract_data_context.py\u001B[0m in \u001B[0;36mget_validator\u001B[0;34m(***failed resolving arguments***)\u001B[0m\n\u001B[1;32m   2480\u001B[0m             \u001B[0;32mfor\u001B[0m \u001B[0mbatch_request\u001B[0m \u001B[0;32min\u001B[0m \u001B[0mbatch_request_list\u001B[0m\u001B[0;34m:\u001B[0m\u001B[0;34m\u001B[0m\u001B[0;34m\u001B[0m\u001B[0m\n\u001B[1;32m   2481\u001B[0m                 batch_list.extend(\n\u001B[0;32m-> 2482\u001B[0;31m                     self.get_batch_list(\n\u001B[0m\u001B[1;32m   2483\u001B[0m                         \u001B[0mdatasource_name\u001B[0m\u001B[0;34m=\u001B[0m\u001B[0mdatasource_name\u001B[0m\u001B[0;34m,\u001B[0m\u001B[0;34m\u001B[0m\u001B[0;34m\u001B[0m\u001B[0m\n\u001B[1;32m   2484\u001B[0m                         \u001B[0mdata_connector_name\u001B[0m\u001B[0;34m=\u001B[0m\u001B[0mdata_connector_name\u001B[0m\u001B[0;34m,\u001B[0m\u001B[0;34m\u001B[0m\u001B[0;34m\u001B[0m\u001B[0m\n",
      "\u001B[0;32m~/anaconda3/lib/python3.9/site-packages/great_expectations/core/usage_statistics/usage_statistics.py\u001B[0m in \u001B[0;36musage_statistics_wrapped_method\u001B[0;34m(*args, **kwargs)\u001B[0m\n\u001B[1;32m    258\u001B[0m                     \u001B[0mnested_update\u001B[0m\u001B[0;34m(\u001B[0m\u001B[0mevent_payload\u001B[0m\u001B[0;34m,\u001B[0m \u001B[0margs_payload\u001B[0m\u001B[0;34m)\u001B[0m\u001B[0;34m\u001B[0m\u001B[0;34m\u001B[0m\u001B[0m\n\u001B[1;32m    259\u001B[0m \u001B[0;34m\u001B[0m\u001B[0m\n\u001B[0;32m--> 260\u001B[0;31m                 \u001B[0mresult\u001B[0m \u001B[0;34m=\u001B[0m \u001B[0mfunc\u001B[0m\u001B[0;34m(\u001B[0m\u001B[0;34m*\u001B[0m\u001B[0margs\u001B[0m\u001B[0;34m,\u001B[0m \u001B[0;34m**\u001B[0m\u001B[0mkwargs\u001B[0m\u001B[0;34m)\u001B[0m\u001B[0;34m\u001B[0m\u001B[0;34m\u001B[0m\u001B[0m\n\u001B[0m\u001B[1;32m    261\u001B[0m                 \u001B[0mmessage\u001B[0m\u001B[0;34m[\u001B[0m\u001B[0;34m\"success\"\u001B[0m\u001B[0;34m]\u001B[0m \u001B[0;34m=\u001B[0m \u001B[0;32mTrue\u001B[0m\u001B[0;34m\u001B[0m\u001B[0;34m\u001B[0m\u001B[0m\n\u001B[1;32m    262\u001B[0m             \u001B[0;32mexcept\u001B[0m \u001B[0mException\u001B[0m\u001B[0;34m:\u001B[0m\u001B[0;34m\u001B[0m\u001B[0;34m\u001B[0m\u001B[0m\n",
      "\u001B[0;32m~/anaconda3/lib/python3.9/site-packages/great_expectations/data_context/data_context/abstract_data_context.py\u001B[0m in \u001B[0;36mget_batch_list\u001B[0;34m(self, datasource_name, data_connector_name, data_asset_name, batch_request, batch_data, data_connector_query, batch_identifiers, limit, index, custom_filter_function, sampling_method, sampling_kwargs, splitter_method, splitter_kwargs, runtime_parameters, query, path, batch_filter_parameters, batch_spec_passthrough, batch_request_options, **kwargs)\u001B[0m\n\u001B[1;32m   2649\u001B[0m \u001B[0;34m\u001B[0m\u001B[0m\n\u001B[1;32m   2650\u001B[0m         \"\"\"\n\u001B[0;32m-> 2651\u001B[0;31m         return self._get_batch_list(\n\u001B[0m\u001B[1;32m   2652\u001B[0m             \u001B[0mdatasource_name\u001B[0m\u001B[0;34m=\u001B[0m\u001B[0mdatasource_name\u001B[0m\u001B[0;34m,\u001B[0m\u001B[0;34m\u001B[0m\u001B[0;34m\u001B[0m\u001B[0m\n\u001B[1;32m   2653\u001B[0m             \u001B[0mdata_connector_name\u001B[0m\u001B[0;34m=\u001B[0m\u001B[0mdata_connector_name\u001B[0m\u001B[0;34m,\u001B[0m\u001B[0;34m\u001B[0m\u001B[0;34m\u001B[0m\u001B[0m\n",
      "\u001B[0;32m~/anaconda3/lib/python3.9/site-packages/great_expectations/data_context/data_context/abstract_data_context.py\u001B[0m in \u001B[0;36m_get_batch_list\u001B[0;34m(self, datasource_name, data_connector_name, data_asset_name, batch_request, batch_data, data_connector_query, batch_identifiers, limit, index, custom_filter_function, sampling_method, sampling_kwargs, splitter_method, splitter_kwargs, runtime_parameters, query, path, batch_filter_parameters, batch_spec_passthrough, batch_request_options, **kwargs)\u001B[0m\n\u001B[1;32m   2730\u001B[0m             )\n\u001B[1;32m   2731\u001B[0m \u001B[0;34m\u001B[0m\u001B[0m\n\u001B[0;32m-> 2732\u001B[0;31m         \u001B[0;32mreturn\u001B[0m \u001B[0mdatasource\u001B[0m\u001B[0;34m.\u001B[0m\u001B[0mget_batch_list_from_batch_request\u001B[0m\u001B[0;34m(\u001B[0m\u001B[0mbatch_request\u001B[0m\u001B[0;34m=\u001B[0m\u001B[0mresult\u001B[0m\u001B[0;34m)\u001B[0m\u001B[0;34m\u001B[0m\u001B[0;34m\u001B[0m\u001B[0m\n\u001B[0m\u001B[1;32m   2733\u001B[0m \u001B[0;34m\u001B[0m\u001B[0m\n\u001B[1;32m   2734\u001B[0m     \u001B[0;34m@\u001B[0m\u001B[0mpublic_api\u001B[0m\u001B[0;34m\u001B[0m\u001B[0;34m\u001B[0m\u001B[0m\n",
      "\u001B[0;32m~/anaconda3/lib/python3.9/site-packages/great_expectations/datasource/fluent/interfaces.py\u001B[0m in \u001B[0;36mget_batch_list_from_batch_request\u001B[0;34m(self, batch_request)\u001B[0m\n\u001B[1;32m    465\u001B[0m         \"\"\"\n\u001B[1;32m    466\u001B[0m         \u001B[0mdata_asset\u001B[0m \u001B[0;34m=\u001B[0m \u001B[0mself\u001B[0m\u001B[0;34m.\u001B[0m\u001B[0mget_asset\u001B[0m\u001B[0;34m(\u001B[0m\u001B[0mbatch_request\u001B[0m\u001B[0;34m.\u001B[0m\u001B[0mdata_asset_name\u001B[0m\u001B[0;34m)\u001B[0m\u001B[0;34m\u001B[0m\u001B[0;34m\u001B[0m\u001B[0m\n\u001B[0;32m--> 467\u001B[0;31m         \u001B[0;32mreturn\u001B[0m \u001B[0mdata_asset\u001B[0m\u001B[0;34m.\u001B[0m\u001B[0mget_batch_list_from_batch_request\u001B[0m\u001B[0;34m(\u001B[0m\u001B[0mbatch_request\u001B[0m\u001B[0;34m)\u001B[0m\u001B[0;34m\u001B[0m\u001B[0;34m\u001B[0m\u001B[0m\n\u001B[0m\u001B[1;32m    468\u001B[0m \u001B[0;34m\u001B[0m\u001B[0m\n\u001B[1;32m    469\u001B[0m     \u001B[0;32mdef\u001B[0m \u001B[0mget_assets_as_dict\u001B[0m\u001B[0;34m(\u001B[0m\u001B[0mself\u001B[0m\u001B[0;34m)\u001B[0m \u001B[0;34m->\u001B[0m \u001B[0mMutableMapping\u001B[0m\u001B[0;34m[\u001B[0m\u001B[0mstr\u001B[0m\u001B[0;34m,\u001B[0m \u001B[0m_DataAssetT\u001B[0m\u001B[0;34m]\u001B[0m\u001B[0;34m:\u001B[0m\u001B[0;34m\u001B[0m\u001B[0;34m\u001B[0m\u001B[0m\n",
      "\u001B[0;32m~/anaconda3/lib/python3.9/site-packages/great_expectations/datasource/fluent/pandas_datasource.py\u001B[0m in \u001B[0;36mget_batch_list_from_batch_request\u001B[0;34m(self, batch_request)\u001B[0m\n\u001B[1;32m    133\u001B[0m         )\n\u001B[1;32m    134\u001B[0m         \u001B[0mexecution_engine\u001B[0m\u001B[0;34m:\u001B[0m \u001B[0mPandasExecutionEngine\u001B[0m \u001B[0;34m=\u001B[0m \u001B[0mself\u001B[0m\u001B[0;34m.\u001B[0m\u001B[0mdatasource\u001B[0m\u001B[0;34m.\u001B[0m\u001B[0mget_execution_engine\u001B[0m\u001B[0;34m(\u001B[0m\u001B[0;34m)\u001B[0m\u001B[0;34m\u001B[0m\u001B[0;34m\u001B[0m\u001B[0m\n\u001B[0;32m--> 135\u001B[0;31m         data, markers = execution_engine.get_batch_data_and_markers(\n\u001B[0m\u001B[1;32m    136\u001B[0m             \u001B[0mbatch_spec\u001B[0m\u001B[0;34m=\u001B[0m\u001B[0mbatch_spec\u001B[0m\u001B[0;34m\u001B[0m\u001B[0;34m\u001B[0m\u001B[0m\n\u001B[1;32m    137\u001B[0m         )\n",
      "\u001B[0;32m~/anaconda3/lib/python3.9/site-packages/great_expectations/execution_engine/pandas_execution_engine.py\u001B[0m in \u001B[0;36mget_batch_data_and_markers\u001B[0;34m(self, batch_spec)\u001B[0m\n\u001B[1;32m    344\u001B[0m             reader_fn_result: pd.DataFrame | list[\n\u001B[1;32m    345\u001B[0m                 \u001B[0mpd\u001B[0m\u001B[0;34m.\u001B[0m\u001B[0mDataFrame\u001B[0m\u001B[0;34m\u001B[0m\u001B[0;34m\u001B[0m\u001B[0m\n\u001B[0;32m--> 346\u001B[0;31m             ] = execute_pandas_reader_fn(reader_fn, reader_options)\n\u001B[0m\u001B[1;32m    347\u001B[0m             \u001B[0;32mif\u001B[0m \u001B[0misinstance\u001B[0m\u001B[0;34m(\u001B[0m\u001B[0mreader_fn_result\u001B[0m\u001B[0;34m,\u001B[0m \u001B[0mlist\u001B[0m\u001B[0;34m)\u001B[0m\u001B[0;34m:\u001B[0m\u001B[0;34m\u001B[0m\u001B[0;34m\u001B[0m\u001B[0m\n\u001B[1;32m    348\u001B[0m                 \u001B[0;32mif\u001B[0m \u001B[0mlen\u001B[0m\u001B[0;34m(\u001B[0m\u001B[0mreader_fn_result\u001B[0m\u001B[0;34m)\u001B[0m \u001B[0;34m>\u001B[0m \u001B[0;36m1\u001B[0m\u001B[0;34m:\u001B[0m\u001B[0;34m\u001B[0m\u001B[0;34m\u001B[0m\u001B[0m\n",
      "\u001B[0;32m~/anaconda3/lib/python3.9/site-packages/great_expectations/compatibility/sqlalchemy_and_pandas.py\u001B[0m in \u001B[0;36mexecute_pandas_reader_fn\u001B[0;34m(reader_fn, reader_options)\u001B[0m\n\u001B[1;32m     40\u001B[0m             \u001B[0;31m# warning type only exists in sqlalchemy < 2.0.\u001B[0m\u001B[0;34m\u001B[0m\u001B[0;34m\u001B[0m\u001B[0m\n\u001B[1;32m     41\u001B[0m             \u001B[0mwarnings\u001B[0m\u001B[0;34m.\u001B[0m\u001B[0mfilterwarnings\u001B[0m\u001B[0;34m(\u001B[0m\u001B[0maction\u001B[0m\u001B[0;34m=\u001B[0m\u001B[0;34m\"ignore\"\u001B[0m\u001B[0;34m,\u001B[0m \u001B[0mcategory\u001B[0m\u001B[0;34m=\u001B[0m\u001B[0mDeprecationWarning\u001B[0m\u001B[0;34m)\u001B[0m\u001B[0;34m\u001B[0m\u001B[0;34m\u001B[0m\u001B[0m\n\u001B[0;32m---> 42\u001B[0;31m             reader_fn_result: pd.DataFrame | list[pd.DataFrame] = reader_fn(\n\u001B[0m\u001B[1;32m     43\u001B[0m                 \u001B[0;34m**\u001B[0m\u001B[0mreader_options\u001B[0m\u001B[0;34m\u001B[0m\u001B[0;34m\u001B[0m\u001B[0m\n\u001B[1;32m     44\u001B[0m             )\n",
      "\u001B[0;32m~/anaconda3/lib/python3.9/site-packages/pandas/util/_decorators.py\u001B[0m in \u001B[0;36mwrapper\u001B[0;34m(*args, **kwargs)\u001B[0m\n\u001B[1;32m    309\u001B[0m                     \u001B[0mstacklevel\u001B[0m\u001B[0;34m=\u001B[0m\u001B[0mstacklevel\u001B[0m\u001B[0;34m,\u001B[0m\u001B[0;34m\u001B[0m\u001B[0;34m\u001B[0m\u001B[0m\n\u001B[1;32m    310\u001B[0m                 )\n\u001B[0;32m--> 311\u001B[0;31m             \u001B[0;32mreturn\u001B[0m \u001B[0mfunc\u001B[0m\u001B[0;34m(\u001B[0m\u001B[0;34m*\u001B[0m\u001B[0margs\u001B[0m\u001B[0;34m,\u001B[0m \u001B[0;34m**\u001B[0m\u001B[0mkwargs\u001B[0m\u001B[0;34m)\u001B[0m\u001B[0;34m\u001B[0m\u001B[0;34m\u001B[0m\u001B[0m\n\u001B[0m\u001B[1;32m    312\u001B[0m \u001B[0;34m\u001B[0m\u001B[0m\n\u001B[1;32m    313\u001B[0m         \u001B[0;32mreturn\u001B[0m \u001B[0mwrapper\u001B[0m\u001B[0;34m\u001B[0m\u001B[0;34m\u001B[0m\u001B[0m\n",
      "\u001B[0;32m~/anaconda3/lib/python3.9/site-packages/pandas/io/parsers/readers.py\u001B[0m in \u001B[0;36mread_csv\u001B[0;34m(filepath_or_buffer, sep, delimiter, header, names, index_col, usecols, squeeze, prefix, mangle_dupe_cols, dtype, engine, converters, true_values, false_values, skipinitialspace, skiprows, skipfooter, nrows, na_values, keep_default_na, na_filter, verbose, skip_blank_lines, parse_dates, infer_datetime_format, keep_date_col, date_parser, dayfirst, cache_dates, iterator, chunksize, compression, thousands, decimal, lineterminator, quotechar, quoting, doublequote, escapechar, comment, encoding, encoding_errors, dialect, error_bad_lines, warn_bad_lines, on_bad_lines, delim_whitespace, low_memory, memory_map, float_precision, storage_options)\u001B[0m\n\u001B[1;32m    584\u001B[0m     \u001B[0mkwds\u001B[0m\u001B[0;34m.\u001B[0m\u001B[0mupdate\u001B[0m\u001B[0;34m(\u001B[0m\u001B[0mkwds_defaults\u001B[0m\u001B[0;34m)\u001B[0m\u001B[0;34m\u001B[0m\u001B[0;34m\u001B[0m\u001B[0m\n\u001B[1;32m    585\u001B[0m \u001B[0;34m\u001B[0m\u001B[0m\n\u001B[0;32m--> 586\u001B[0;31m     \u001B[0;32mreturn\u001B[0m \u001B[0m_read\u001B[0m\u001B[0;34m(\u001B[0m\u001B[0mfilepath_or_buffer\u001B[0m\u001B[0;34m,\u001B[0m \u001B[0mkwds\u001B[0m\u001B[0;34m)\u001B[0m\u001B[0;34m\u001B[0m\u001B[0;34m\u001B[0m\u001B[0m\n\u001B[0m\u001B[1;32m    587\u001B[0m \u001B[0;34m\u001B[0m\u001B[0m\n\u001B[1;32m    588\u001B[0m \u001B[0;34m\u001B[0m\u001B[0m\n",
      "\u001B[0;32m~/anaconda3/lib/python3.9/site-packages/pandas/io/parsers/readers.py\u001B[0m in \u001B[0;36m_read\u001B[0;34m(filepath_or_buffer, kwds)\u001B[0m\n\u001B[1;32m    480\u001B[0m \u001B[0;34m\u001B[0m\u001B[0m\n\u001B[1;32m    481\u001B[0m     \u001B[0;31m# Create the parser.\u001B[0m\u001B[0;34m\u001B[0m\u001B[0;34m\u001B[0m\u001B[0m\n\u001B[0;32m--> 482\u001B[0;31m     \u001B[0mparser\u001B[0m \u001B[0;34m=\u001B[0m \u001B[0mTextFileReader\u001B[0m\u001B[0;34m(\u001B[0m\u001B[0mfilepath_or_buffer\u001B[0m\u001B[0;34m,\u001B[0m \u001B[0;34m**\u001B[0m\u001B[0mkwds\u001B[0m\u001B[0;34m)\u001B[0m\u001B[0;34m\u001B[0m\u001B[0;34m\u001B[0m\u001B[0m\n\u001B[0m\u001B[1;32m    483\u001B[0m \u001B[0;34m\u001B[0m\u001B[0m\n\u001B[1;32m    484\u001B[0m     \u001B[0;32mif\u001B[0m \u001B[0mchunksize\u001B[0m \u001B[0;32mor\u001B[0m \u001B[0miterator\u001B[0m\u001B[0;34m:\u001B[0m\u001B[0;34m\u001B[0m\u001B[0;34m\u001B[0m\u001B[0m\n",
      "\u001B[0;32m~/anaconda3/lib/python3.9/site-packages/pandas/io/parsers/readers.py\u001B[0m in \u001B[0;36m__init__\u001B[0;34m(self, f, engine, **kwds)\u001B[0m\n\u001B[1;32m    809\u001B[0m             \u001B[0mself\u001B[0m\u001B[0;34m.\u001B[0m\u001B[0moptions\u001B[0m\u001B[0;34m[\u001B[0m\u001B[0;34m\"has_index_names\"\u001B[0m\u001B[0;34m]\u001B[0m \u001B[0;34m=\u001B[0m \u001B[0mkwds\u001B[0m\u001B[0;34m[\u001B[0m\u001B[0;34m\"has_index_names\"\u001B[0m\u001B[0;34m]\u001B[0m\u001B[0;34m\u001B[0m\u001B[0;34m\u001B[0m\u001B[0m\n\u001B[1;32m    810\u001B[0m \u001B[0;34m\u001B[0m\u001B[0m\n\u001B[0;32m--> 811\u001B[0;31m         \u001B[0mself\u001B[0m\u001B[0;34m.\u001B[0m\u001B[0m_engine\u001B[0m \u001B[0;34m=\u001B[0m \u001B[0mself\u001B[0m\u001B[0;34m.\u001B[0m\u001B[0m_make_engine\u001B[0m\u001B[0;34m(\u001B[0m\u001B[0mself\u001B[0m\u001B[0;34m.\u001B[0m\u001B[0mengine\u001B[0m\u001B[0;34m)\u001B[0m\u001B[0;34m\u001B[0m\u001B[0;34m\u001B[0m\u001B[0m\n\u001B[0m\u001B[1;32m    812\u001B[0m \u001B[0;34m\u001B[0m\u001B[0m\n\u001B[1;32m    813\u001B[0m     \u001B[0;32mdef\u001B[0m \u001B[0mclose\u001B[0m\u001B[0;34m(\u001B[0m\u001B[0mself\u001B[0m\u001B[0;34m)\u001B[0m\u001B[0;34m:\u001B[0m\u001B[0;34m\u001B[0m\u001B[0;34m\u001B[0m\u001B[0m\n",
      "\u001B[0;32m~/anaconda3/lib/python3.9/site-packages/pandas/io/parsers/readers.py\u001B[0m in \u001B[0;36m_make_engine\u001B[0;34m(self, engine)\u001B[0m\n\u001B[1;32m   1038\u001B[0m             )\n\u001B[1;32m   1039\u001B[0m         \u001B[0;31m# error: Too many arguments for \"ParserBase\"\u001B[0m\u001B[0;34m\u001B[0m\u001B[0;34m\u001B[0m\u001B[0m\n\u001B[0;32m-> 1040\u001B[0;31m         \u001B[0;32mreturn\u001B[0m \u001B[0mmapping\u001B[0m\u001B[0;34m[\u001B[0m\u001B[0mengine\u001B[0m\u001B[0;34m]\u001B[0m\u001B[0;34m(\u001B[0m\u001B[0mself\u001B[0m\u001B[0;34m.\u001B[0m\u001B[0mf\u001B[0m\u001B[0;34m,\u001B[0m \u001B[0;34m**\u001B[0m\u001B[0mself\u001B[0m\u001B[0;34m.\u001B[0m\u001B[0moptions\u001B[0m\u001B[0;34m)\u001B[0m  \u001B[0;31m# type: ignore[call-arg]\u001B[0m\u001B[0;34m\u001B[0m\u001B[0;34m\u001B[0m\u001B[0m\n\u001B[0m\u001B[1;32m   1041\u001B[0m \u001B[0;34m\u001B[0m\u001B[0m\n\u001B[1;32m   1042\u001B[0m     \u001B[0;32mdef\u001B[0m \u001B[0m_failover_to_python\u001B[0m\u001B[0;34m(\u001B[0m\u001B[0mself\u001B[0m\u001B[0;34m)\u001B[0m\u001B[0;34m:\u001B[0m\u001B[0;34m\u001B[0m\u001B[0;34m\u001B[0m\u001B[0m\n",
      "\u001B[0;32m~/anaconda3/lib/python3.9/site-packages/pandas/io/parsers/c_parser_wrapper.py\u001B[0m in \u001B[0;36m__init__\u001B[0;34m(self, src, **kwds)\u001B[0m\n\u001B[1;32m     49\u001B[0m \u001B[0;34m\u001B[0m\u001B[0m\n\u001B[1;32m     50\u001B[0m         \u001B[0;31m# open handles\u001B[0m\u001B[0;34m\u001B[0m\u001B[0;34m\u001B[0m\u001B[0m\n\u001B[0;32m---> 51\u001B[0;31m         \u001B[0mself\u001B[0m\u001B[0;34m.\u001B[0m\u001B[0m_open_handles\u001B[0m\u001B[0;34m(\u001B[0m\u001B[0msrc\u001B[0m\u001B[0;34m,\u001B[0m \u001B[0mkwds\u001B[0m\u001B[0;34m)\u001B[0m\u001B[0;34m\u001B[0m\u001B[0;34m\u001B[0m\u001B[0m\n\u001B[0m\u001B[1;32m     52\u001B[0m         \u001B[0;32massert\u001B[0m \u001B[0mself\u001B[0m\u001B[0;34m.\u001B[0m\u001B[0mhandles\u001B[0m \u001B[0;32mis\u001B[0m \u001B[0;32mnot\u001B[0m \u001B[0;32mNone\u001B[0m\u001B[0;34m\u001B[0m\u001B[0;34m\u001B[0m\u001B[0m\n\u001B[1;32m     53\u001B[0m \u001B[0;34m\u001B[0m\u001B[0m\n",
      "\u001B[0;32m~/anaconda3/lib/python3.9/site-packages/pandas/io/parsers/base_parser.py\u001B[0m in \u001B[0;36m_open_handles\u001B[0;34m(self, src, kwds)\u001B[0m\n\u001B[1;32m    220\u001B[0m         \u001B[0mLet\u001B[0m \u001B[0mthe\u001B[0m \u001B[0mreaders\u001B[0m \u001B[0mopen\u001B[0m \u001B[0mIOHandles\u001B[0m \u001B[0mafter\u001B[0m \u001B[0mthey\u001B[0m \u001B[0mare\u001B[0m \u001B[0mdone\u001B[0m \u001B[0;32mwith\u001B[0m \u001B[0mtheir\u001B[0m \u001B[0mpotential\u001B[0m \u001B[0mraises\u001B[0m\u001B[0;34m.\u001B[0m\u001B[0;34m\u001B[0m\u001B[0;34m\u001B[0m\u001B[0m\n\u001B[1;32m    221\u001B[0m         \"\"\"\n\u001B[0;32m--> 222\u001B[0;31m         self.handles = get_handle(\n\u001B[0m\u001B[1;32m    223\u001B[0m             \u001B[0msrc\u001B[0m\u001B[0;34m,\u001B[0m\u001B[0;34m\u001B[0m\u001B[0;34m\u001B[0m\u001B[0m\n\u001B[1;32m    224\u001B[0m             \u001B[0;34m\"r\"\u001B[0m\u001B[0;34m,\u001B[0m\u001B[0;34m\u001B[0m\u001B[0;34m\u001B[0m\u001B[0m\n",
      "\u001B[0;32m~/anaconda3/lib/python3.9/site-packages/pandas/io/common.py\u001B[0m in \u001B[0;36mget_handle\u001B[0;34m(path_or_buf, mode, encoding, compression, memory_map, is_text, errors, storage_options)\u001B[0m\n\u001B[1;32m    700\u001B[0m         \u001B[0;32mif\u001B[0m \u001B[0mioargs\u001B[0m\u001B[0;34m.\u001B[0m\u001B[0mencoding\u001B[0m \u001B[0;32mand\u001B[0m \u001B[0;34m\"b\"\u001B[0m \u001B[0;32mnot\u001B[0m \u001B[0;32min\u001B[0m \u001B[0mioargs\u001B[0m\u001B[0;34m.\u001B[0m\u001B[0mmode\u001B[0m\u001B[0;34m:\u001B[0m\u001B[0;34m\u001B[0m\u001B[0;34m\u001B[0m\u001B[0m\n\u001B[1;32m    701\u001B[0m             \u001B[0;31m# Encoding\u001B[0m\u001B[0;34m\u001B[0m\u001B[0;34m\u001B[0m\u001B[0m\n\u001B[0;32m--> 702\u001B[0;31m             handle = open(\n\u001B[0m\u001B[1;32m    703\u001B[0m                 \u001B[0mhandle\u001B[0m\u001B[0;34m,\u001B[0m\u001B[0;34m\u001B[0m\u001B[0;34m\u001B[0m\u001B[0m\n\u001B[1;32m    704\u001B[0m                 \u001B[0mioargs\u001B[0m\u001B[0;34m.\u001B[0m\u001B[0mmode\u001B[0m\u001B[0;34m,\u001B[0m\u001B[0;34m\u001B[0m\u001B[0;34m\u001B[0m\u001B[0m\n",
      "\u001B[0;31mFileNotFoundError\u001B[0m: [Errno 2] No such file or directory: '../../data/raw/train/_annotations.csv'"
     ]
    }
   ],
   "source": [
    "#TRAIN DATA\n",
    "data_path = \"../../data/raw/train/_annotations.csv\"\n",
    "train_validator = context.sources.pandas_default.read_csv(data_path)\n",
    "images_list = os.listdir(\"../../data/raw/train/\")\n",
    "validate_data(train_validator, images_list)\n",
    "\n",
    "#VALIDATION DATA\n",
    "data_path = \"../../data/raw/valid/_annotations.csv\"\n",
    "train_validator = context.sources.pandas_default.read_csv(data_path)\n",
    "images_list = os.listdir(\"../../data/raw/valid/\")\n",
    "validate_data(train_validator, images_list)\n",
    "\n",
    "#TEST DATA\n",
    "data_path = \"../../data/raw/test/_annotations.csv\"\n",
    "train_validator = context.sources.pandas_default.read_csv(data_path)\n",
    "images_list = os.listdir(\"../../data/raw/test/\")\n",
    "validate_data(train_validator, images_list)"
   ]
  },
  {
   "cell_type": "code",
   "execution_count": null,
   "id": "e796f239-a79a-4362-a3fe-c2c77a40ae66",
   "metadata": {},
   "outputs": [],
   "source": []
  }
 ],
 "metadata": {
  "kernelspec": {
   "display_name": "Python 3 (ipykernel)",
   "language": "python",
   "name": "python3"
  },
  "language_info": {
   "codemirror_mode": {
    "name": "ipython",
    "version": 3
   },
   "file_extension": ".py",
   "mimetype": "text/x-python",
   "name": "python",
   "nbconvert_exporter": "python",
   "pygments_lexer": "ipython3",
   "version": "3.9.7"
  }
 },
 "nbformat": 4,
 "nbformat_minor": 5
}
